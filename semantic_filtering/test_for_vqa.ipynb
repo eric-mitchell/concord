{
 "cells": [
  {
   "cell_type": "code",
   "execution_count": 1,
   "id": "256edbcf",
   "metadata": {},
   "outputs": [
    {
     "ename": "ModuleNotFoundError",
     "evalue": "No module named 'sentence_transformers'",
     "output_type": "error",
     "traceback": [
      "\u001b[0;31m---------------------------------------------------------------------------\u001b[0m",
      "\u001b[0;31mModuleNotFoundError\u001b[0m                       Traceback (most recent call last)",
      "\u001b[0;32m<ipython-input-1-88a77b57c972>\u001b[0m in \u001b[0;36m<module>\u001b[0;34m\u001b[0m\n\u001b[0;32m----> 1\u001b[0;31m \u001b[0;32mfrom\u001b[0m \u001b[0msentence_transformers\u001b[0m \u001b[0;32mimport\u001b[0m \u001b[0mSentenceTransformer\u001b[0m\u001b[0;34m,\u001b[0m \u001b[0mutil\u001b[0m\u001b[0;34m\u001b[0m\u001b[0;34m\u001b[0m\u001b[0m\n\u001b[0m\u001b[1;32m      2\u001b[0m \u001b[0mmodel\u001b[0m \u001b[0;34m=\u001b[0m \u001b[0mSentenceTransformer\u001b[0m\u001b[0;34m(\u001b[0m\u001b[0;34m'multi-qa-MiniLM-L6-cos-v1'\u001b[0m\u001b[0;34m)\u001b[0m\u001b[0;34m\u001b[0m\u001b[0;34m\u001b[0m\u001b[0m\n\u001b[1;32m      3\u001b[0m \u001b[0;34m\u001b[0m\u001b[0m\n\u001b[1;32m      4\u001b[0m \u001b[0mquery_embedding\u001b[0m \u001b[0;34m=\u001b[0m \u001b[0mmodel\u001b[0m\u001b[0;34m.\u001b[0m\u001b[0mencode\u001b[0m\u001b[0;34m(\u001b[0m\u001b[0;34m'How big is London'\u001b[0m\u001b[0;34m)\u001b[0m\u001b[0;34m\u001b[0m\u001b[0;34m\u001b[0m\u001b[0m\n\u001b[1;32m      5\u001b[0m passage_embedding = model.encode(['London has 9,787,426 inhabitants at the 2011 census',\n",
      "\u001b[0;31mModuleNotFoundError\u001b[0m: No module named 'sentence_transformers'"
     ]
    }
   ],
   "source": [
    "from sentence_transformers import SentenceTransformer, util\n",
    "model = SentenceTransformer('multi-qa-MiniLM-L6-cos-v1')\n",
    "\n",
    "query_embedding = model.encode('How big is London')\n",
    "passage_embedding = model.encode(['London has 9,787,426 inhabitants at the 2011 census',\n",
    "                                  'London is known for its finacial district'])\n",
    "\n",
    "print(\"Similarity:\", util.dot_score(query_embedding, passage_embedding))\n",
    "\n",
    "# si = SemanticIndexer(\"multi-qa-MiniLM-L6-cos-v1\", 0.2, paraphrase=True, num_paraphrase=2)\n",
    "# si.add_to_index('A white appliance is a stove.')\n",
    "# si.add_to_index('A white appliance is an oven.')\n",
    "# si.add_to_index('The person that looks young is not sitting at a couch.')\n",
    "# si.add_to_index('The person that looks young is sitting at a couch.')\n",
    "# si.add_to_index('The tray is not in the top of the picture.')\n",
    "# si.add_to_index('The tray is in the top of the picture.')\n",
    "# si.add_to_index('The counter is brown.')\n",
    "# si.add_to_index('The color of the counter is not brown.')\n",
    "# si.add_to_index('A woman is sitting at the table the stove is behind of.')\n",
    "# si.add_to_index('A person is sitting at the table the stove is behind of.')\n",
    "# si.add_to_index('The stove behind the table is 10 feet tall.')\n",
    "# si.add_to_index('The stove behind the table is 3 feet tall.')\n",
    "# si.add_to_index('The stove is the appliance to the right of the girl.')\n",
    "# si.add_to_index('The oven is to the right of the girl.')\n",
    "# si.add_to_index('There are no tents or breads.')\n",
    "# si.add_to_index('A woman is sitting.')\n",
    "# si.add_to_index('The girl is sitting.')\n",
    "# si.add_to_index('The candles are white in color.')\n",
    "# si.add_to_index('The candles are pink in color.')\n",
    "# si.add_to_index('The girl is holding a knife.')\n",
    "# si.add_to_index('The girl is holding a fork.')\n",
    "# si.add_to_index('The round cake is not to the right of the young girl.')\n",
    "# si.add_to_index('The round cake is to the right of the young girl.')\n",
    "# si.add_to_index('The white appliance is called a stove.')\n",
    "# si.add_to_index('The white appliance is called an oven.')\n",
    "\n",
    "# si = SemanticIndexer(\"multi-qa-MiniLM-L6-cos-v1\", 0.2, paraphrase=True, num_paraphrase=2)\n",
    "# si.add_to_index(\"It is a little chilly today.\")\n",
    "# si.add_to_index(\"I like cold.\")\n",
    "# si.update_index(\"It is a little chilly today.\", \"It is very hot today.\")\n",
    "# si.add_to_index(\"I like pasta a lot.\")\n",
    "# print(si.find_similar([\"It is so so cold!!\", \"I love spaghetti!\"]))"
   ]
  },
  {
   "cell_type": "code",
   "execution_count": 2,
   "id": "71eb33f6",
   "metadata": {},
   "outputs": [
    {
     "ename": "ModuleNotFoundError",
     "evalue": "No module named 'sentence_transformers'",
     "output_type": "error",
     "traceback": [
      "\u001b[0;31m---------------------------------------------------------------------------\u001b[0m",
      "\u001b[0;31mModuleNotFoundError\u001b[0m                       Traceback (most recent call last)",
      "\u001b[0;32m<ipython-input-2-39c26d3c6b08>\u001b[0m in \u001b[0;36m<module>\u001b[0;34m\u001b[0m\n\u001b[0;32m----> 1\u001b[0;31m \u001b[0;32mimport\u001b[0m \u001b[0msentence_transformers\u001b[0m\u001b[0;34m\u001b[0m\u001b[0;34m\u001b[0m\u001b[0m\n\u001b[0m",
      "\u001b[0;31mModuleNotFoundError\u001b[0m: No module named 'sentence_transformers'"
     ]
    }
   ],
   "source": [
    "import sentence_transformers"
   ]
  },
  {
   "cell_type": "code",
   "execution_count": null,
   "id": "db5fad7d",
   "metadata": {},
   "outputs": [],
   "source": []
  }
 ],
 "metadata": {
  "kernelspec": {
   "display_name": "Python 3",
   "language": "python",
   "name": "python3"
  },
  "language_info": {
   "codemirror_mode": {
    "name": "ipython",
    "version": 3
   },
   "file_extension": ".py",
   "mimetype": "text/x-python",
   "name": "python",
   "nbconvert_exporter": "python",
   "pygments_lexer": "ipython3",
   "version": "3.6.9"
  }
 },
 "nbformat": 4,
 "nbformat_minor": 5
}
