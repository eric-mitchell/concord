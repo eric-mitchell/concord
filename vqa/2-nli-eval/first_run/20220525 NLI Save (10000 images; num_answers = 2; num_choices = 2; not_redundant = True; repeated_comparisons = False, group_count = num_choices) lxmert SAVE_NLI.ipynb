{
 "cells": [
  {
   "cell_type": "code",
   "execution_count": null,
   "metadata": {},
   "outputs": [],
   "source": [
    "# Stores NLI For LXMERT 10000"
   ]
  },
  {
   "cell_type": "code",
   "execution_count": null,
   "metadata": {},
   "outputs": [],
   "source": [
    "import transformers\n",
    "from transformers import AutoTokenizer, AutoModelForSeq2SeqLM\n",
    "import torch\n",
    "from pysat.formula import IDPool, WCNFPlus\n",
    "from pysat.examples.rc2 import RC2\n",
    "import numpy as np\n",
    "import matplotlib.pyplot as plt\n",
    "import json\n",
    "\n",
    "# custom modules\n",
    "import sys\n",
    "sys.path.append('../../../nlic')\n",
    "import qa_converter\n",
    "import nli\n",
    "import solver\n",
    "\n",
    "device = \"cpu\""
   ]
  },
  {
   "cell_type": "code",
   "execution_count": null,
   "metadata": {},
   "outputs": [],
   "source": [
    "converter = qa_converter.QAConverter()\n",
    "nlier = nli.NLIInferencer(model_hf_name=\"ynie/roberta-large-snli_mnli_fever_anli_R1_R2_R3-nli\", confidence_threshold=0.0,\n",
    "                         dedup_constraints=False)\n",
    "# qsolver = solver.Solver(beta=0.3)"
   ]
  },
  {
   "cell_type": "code",
   "execution_count": null,
   "metadata": {},
   "outputs": [],
   "source": [
    "### INSTRUCTION FOR USERS : INDICATE APPROPRIATE PATH\n",
    "data_path = '/u/scr/nlp/data/nli-consistency/lxmert_results/lxmert-run-train-10000im-3pred-40token-1seed_predictions.json'\n",
    "\n",
    "with open(data_path, 'r') as f:\n",
    "    data = json.load(f)\n",
    "\n",
    "### INSTRUCTION FOR USERS : INDICATE APPROPRIATE PATH\n",
    "save_path = '/u/scr/nlp/data/nli-consistency/vqa-camera/lxmert_results/lxmert-run-train-10000im-3pred-40token-1seed_predictions_nli.json'"
   ]
  },
  {
   "cell_type": "code",
   "execution_count": null,
   "metadata": {},
   "outputs": [],
   "source": [
    "from PIL import Image\n",
    "\n",
    "image = Image.open('/u/scr/nlp/data/nli-consistency/vg_data/VG_100K/2370978.jpg')\n",
    "image"
   ]
  },
  {
   "cell_type": "code",
   "execution_count": null,
   "metadata": {},
   "outputs": [],
   "source": [
    "# Normalize\n",
    "\n",
    "num_choices = 2\n",
    "not_redundant = True # I.e. self comparisons -- it doesn't add much value since false will still yield truth value\n",
    "repeated_comparisons = False # I.e. identical comparisons; as in what if there are multiple answer confidence levels? No because regardless based on single statement\n",
    "group_count = num_choices\n",
    "\n",
    "raw_correct = 0\n",
    "new_correct = 0\n",
    "good_change = 0\n",
    "bad_change = 0\n",
    "count = 0\n",
    "questions_done = 0\n",
    "\n",
    "for key in data.keys():\n",
    "    print('image #:', questions_done + 1, 'image number', key)\n",
    "    img_data = data[key]\n",
    "    for group in img_data.keys():\n",
    "        group_list = img_data[group]\n",
    "        \n",
    "        qs_list = []\n",
    "        ans_list = []\n",
    "        conf_list = []\n",
    "        for i in range(len(group_list)):\n",
    "            qs = group_list[i]\n",
    "            qs_list.append(qs['question'].capitalize())\n",
    "            ans_list.append(qs['prediction'][0:num_choices])\n",
    "            conf_list.append(qs['prob'][0:num_choices])\n",
    "            \n",
    "        converted = converter(qs_list, ans_list)\n",
    "        # save\n",
    "        statement_groups = [[(converted[i][j], conf_list[i][j]) for j in range(len(converted[i]))] for i in range(len(converted))]\n",
    "        # save\n",
    "        converted_flat = [qs for list1 in converted for qs in list1]\n",
    "        # save\n",
    "        compared = nlier(converted_flat, group_count = group_count, not_redundant=not_redundant)\n",
    "        if not repeated_comparisons:\n",
    "            compared = list(set(compared))\n",
    "            \n",
    "        data[key][group] = {'orig':group_list, 'nli':{'statement_groups':statement_groups,'converted_flat':converted_flat,'compared':compared}}\n",
    "        \n",
    "    questions_done += 1        \n",
    "\n",
    "print(questions_done)"
   ]
  },
  {
   "cell_type": "code",
   "execution_count": null,
   "metadata": {},
   "outputs": [],
   "source": [
    "with open(save_path, 'w') as f:\n",
    "    json.dump(data, f)"
   ]
  },
  {
   "cell_type": "code",
   "execution_count": null,
   "metadata": {},
   "outputs": [],
   "source": []
  }
 ],
 "metadata": {
  "interpreter": {
   "hash": "4af316a89dd3e3197ef817522435dd20aadd9960b7f591262313bbb961fac057"
  },
  "kernelspec": {
   "display_name": "Python 3 (ipykernel)",
   "language": "python",
   "name": "python3"
  },
  "language_info": {
   "codemirror_mode": {
    "name": "ipython",
    "version": 3
   },
   "file_extension": ".py",
   "mimetype": "text/x-python",
   "name": "python",
   "nbconvert_exporter": "python",
   "pygments_lexer": "ipython3",
   "version": "3.9.13"
  }
 },
 "nbformat": 4,
 "nbformat_minor": 2
}
